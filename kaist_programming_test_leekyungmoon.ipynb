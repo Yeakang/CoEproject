{
 "cells": [
  {
   "cell_type": "markdown",
   "metadata": {},
   "source": [
    "# 1-A"
   ]
  },
  {
   "cell_type": "code",
   "execution_count": 72,
   "metadata": {},
   "outputs": [
    {
     "data": {
      "text/plain": [
       "'/Users/mark/kaist/Lenna.png'"
      ]
     },
     "execution_count": 72,
     "metadata": {},
     "output_type": "execute_result"
    }
   ],
   "source": [
    "import os\n",
    "import numpy as np\n",
    "from PIL import Image\n",
    "lenna_path = os.path.join(os.getcwd(),'Lenna.png')\n",
    "lenna_path"
   ]
  },
  {
   "cell_type": "code",
   "execution_count": 73,
   "metadata": {},
   "outputs": [],
   "source": [
    "from PIL import Image"
   ]
  },
  {
   "cell_type": "code",
   "execution_count": 74,
   "metadata": {},
   "outputs": [],
   "source": [
    "lenn_img = Image.open(lenna_path)"
   ]
  },
  {
   "cell_type": "code",
   "execution_count": 75,
   "metadata": {},
   "outputs": [
    {
     "data": {
      "text/plain": [
       "(512, 512, 3)"
      ]
     },
     "execution_count": 75,
     "metadata": {},
     "output_type": "execute_result"
    }
   ],
   "source": [
    "lenn_arr = np.array(lenn_img)\n",
    "lenn_arr.shape"
   ]
  },
  {
   "cell_type": "code",
   "execution_count": 76,
   "metadata": {},
   "outputs": [],
   "source": [
    "def color_to_gray(img):\n",
    "    r = img[:,:,0]\n",
    "    g = img[:,:,1]\n",
    "    b = img[:,:,2]\n",
    "    gray = r*0.2989 + g*0.5870 + b*0.1140\n",
    "    return gray"
   ]
  },
  {
   "cell_type": "code",
   "execution_count": 77,
   "metadata": {},
   "outputs": [
    {
     "name": "stdout",
     "output_type": "stream",
     "text": [
      "(512, 512)\n"
     ]
    }
   ],
   "source": [
    "gray_lenn=color_to_gray(lenn_arr)\n",
    "print(gray_lenn.shape)"
   ]
  },
  {
   "cell_type": "markdown",
   "metadata": {},
   "source": [
    "## 1-B"
   ]
  },
  {
   "cell_type": "markdown",
   "metadata": {},
   "source": [
    "## 1-B-i"
   ]
  },
  {
   "cell_type": "code",
   "execution_count": 78,
   "metadata": {},
   "outputs": [
    {
     "data": {
      "text/plain": [
       "'\\nw_list = [1/16*i for i in [1,2,1,2,4,2,1,2,1]] #np.zeros(shape=(3,3))\\nw_list\\nw = np.reshape(np.array(w_list),(3,3))\\n\\n'"
      ]
     },
     "execution_count": 78,
     "metadata": {},
     "output_type": "execute_result"
    }
   ],
   "source": [
    "\"\"\"\n",
    "w_list = [1/16*i for i in [1,2,1,2,4,2,1,2,1]] #np.zeros(shape=(3,3))\n",
    "w_list\n",
    "w = np.reshape(np.array(w_list),(3,3))\n",
    "\n",
    "\"\"\""
   ]
  },
  {
   "cell_type": "code",
   "execution_count": 79,
   "metadata": {},
   "outputs": [],
   "source": [
    "def get_sub_img(img,x,y):\n",
    "    \n",
    "    sub_img = np.zeros_like(img[1:4,1:4])\n",
    "    sub_img = img[x-1:x+2,y-1:y+2]\n",
    "    \n",
    "    return sub_img\n",
    "\n",
    "def mask_product(w,img,x,y):\n",
    "    sub_img = get_sub_img(img,x,y)\n",
    "    res = np.sum(w*sub_img)\n",
    "    if res < 0:\n",
    "        res =  np.absolute(res)\n",
    "        assert res >= 0.0\n",
    "        #print('negative detected & pos_val:'+str(res))\n",
    "    if res > 255.0:\n",
    "        return 255.0\n",
    "    return res\n",
    "\n",
    "def image_with_gauss(img):\n",
    "    w_list = [1/16*i for i in [1,2,1,2,4,2,1,2,1]] #np.zeros(shape=(3,3))\n",
    "    w = np.reshape(np.array(w_list),(3,3))\n",
    "    \n",
    "    _img = np.zeros((512+2,512+2))\n",
    "    _img[1:513,1:513] = img\n",
    "    \n",
    "    new_image = []\n",
    "    \n",
    "    for i in range(1,513):\n",
    "        for j in range(1,513):\n",
    "            res = mask_product(w,_img,i,j)\n",
    "            \n",
    "            new_image.append(res)\n",
    "\n",
    "    new_image = np.reshape(np.array(new_image),(512,512))\n",
    "    return new_image"
   ]
  },
  {
   "cell_type": "code",
   "execution_count": 80,
   "metadata": {
    "scrolled": false
   },
   "outputs": [
    {
     "data": {
      "text/plain": [
       "array([[ 91.248975  , 121.66816875, 121.45696875, ..., 124.76184375,\n",
       "        113.9058375 ,  77.10241875],\n",
       "       [121.6653    , 162.224225  , 161.942625  , ..., 166.349125  ,\n",
       "        151.87445   , 102.803225  ],\n",
       "       [121.6653    , 162.224225  , 161.942625  , ..., 166.349125  ,\n",
       "        151.87445   , 102.803225  ],\n",
       "       ...,\n",
       "       [ 32.8116375 ,  45.56244375,  48.6113875 , ..., 101.959375  ,\n",
       "        101.28553125,  75.27291875],\n",
       "       [ 32.6773125 ,  46.02725   ,  50.132425  , ..., 102.8704375 ,\n",
       "        104.1998625 ,  78.71550625],\n",
       "       [ 24.7060125 ,  34.9334625 ,  38.30930625, ...,  77.3691375 ,\n",
       "         79.0483875 ,  60.17791875]])"
      ]
     },
     "execution_count": 80,
     "metadata": {},
     "output_type": "execute_result"
    }
   ],
   "source": [
    "gaussian_lenn =image_with_gauss(gray_lenn)\n",
    "gaussian_lenn"
   ]
  },
  {
   "cell_type": "code",
   "execution_count": 81,
   "metadata": {},
   "outputs": [
    {
     "data": {
      "text/plain": [
       "234.27640624999998"
      ]
     },
     "execution_count": 81,
     "metadata": {},
     "output_type": "execute_result"
    }
   ],
   "source": [
    "gaussian_lenn.max()"
   ]
  },
  {
   "cell_type": "code",
   "execution_count": 82,
   "metadata": {},
   "outputs": [
    {
     "name": "stdout",
     "output_type": "stream",
     "text": [
      "(512, 512)\n"
     ]
    },
    {
     "data": {
      "text/plain": [
       "True"
      ]
     },
     "execution_count": 82,
     "metadata": {},
     "output_type": "execute_result"
    }
   ],
   "source": [
    "print(gaussian_lenn.shape)\n",
    "262144 == 512*512"
   ]
  },
  {
   "cell_type": "markdown",
   "metadata": {},
   "source": [
    "## 1-B-ii"
   ]
  },
  {
   "cell_type": "code",
   "execution_count": 84,
   "metadata": {},
   "outputs": [],
   "source": [
    "def image_with_sobel1(img): # img 는 gaussian_filtering 된 lenna 여야한다\n",
    "    w_list = [-1,-2,-1,0,0,0,1,2,1]\n",
    "    w = np.reshape(np.array(w_list),(3,3))\n",
    "    \n",
    "    _img = np.zeros((512+2,512+2))\n",
    "    _img[1:513,1:513] = img\n",
    "    \n",
    "    new_image = []\n",
    "    \n",
    "    for i in range(1,513):\n",
    "        for j in range(1,513):\n",
    "            res = mask_product(w,_img,i,j)\n",
    "            \n",
    "            new_image.append(res)\n",
    "\n",
    "    new_image = np.reshape(np.array(new_image),(512,512))\n",
    "    return new_image\n",
    "\n",
    "def image_with_sobel2(img): # img 는 gaussian_filtering 된 lenna 여야한다\n",
    "    w_list = [-1,0,1,-2,0,2,-1,0,1]\n",
    "    w = np.reshape(np.array(w_list),(3,3))\n",
    "    \n",
    "    _img = np.zeros((512+2,512+2))\n",
    "    _img[1:513,1:513] = img\n",
    "    \n",
    "    new_image = []\n",
    "    \n",
    "    for i in range(1,513):\n",
    "        for j in range(1,513):\n",
    "            res = mask_product(w,_img,i,j)\n",
    "            \n",
    "            new_image.append(res)\n",
    "\n",
    "    new_image = np.reshape(np.array(new_image),(512,512))\n",
    "    return new_image"
   ]
  },
  {
   "cell_type": "code",
   "execution_count": 85,
   "metadata": {},
   "outputs": [
    {
     "name": "stdout",
     "output_type": "stream",
     "text": [
      "(512, 512)\n",
      "255.0\n"
     ]
    },
    {
     "data": {
      "text/plain": [
       "array([[2.55000000e+02, 2.55000000e+02, 2.55000000e+02, ...,\n",
       "        2.55000000e+02, 2.55000000e+02, 2.55000000e+02],\n",
       "       [1.01388706e+02, 1.52014094e+02, 1.61941775e+02, ...,\n",
       "        1.63773494e+02, 1.43225312e+02, 8.93702250e+01],\n",
       "       [2.84217094e-14, 0.00000000e+00, 0.00000000e+00, ...,\n",
       "        5.68434189e-14, 0.00000000e+00, 0.00000000e+00],\n",
       "       ...,\n",
       "       [6.72699375e+00, 3.98648750e+00, 3.98820625e+00, ...,\n",
       "        1.88907438e+01, 2.38214187e+01, 2.02363812e+01],\n",
       "       [2.68402312e+01, 3.96656688e+01, 4.21585312e+01, ...,\n",
       "        9.50641812e+01, 8.41595250e+01, 5.24271437e+01],\n",
       "       [1.11381875e+02, 1.74864238e+02, 1.98240900e+02, ...,\n",
       "        2.55000000e+02, 2.55000000e+02, 2.55000000e+02]])"
      ]
     },
     "execution_count": 85,
     "metadata": {},
     "output_type": "execute_result"
    }
   ],
   "source": [
    "sobel1_lenn = image_with_sobel1(gaussian_lenn)\n",
    "print(sobel1_lenn.shape)\n",
    "print(sobel1_lenn.max())\n",
    "sobel1_lenn"
   ]
  },
  {
   "cell_type": "code",
   "execution_count": 86,
   "metadata": {},
   "outputs": [
    {
     "name": "stdout",
     "output_type": "stream",
     "text": [
      "(512, 512)\n",
      "255.0\n"
     ]
    },
    {
     "data": {
      "text/plain": [
       "array([[255.        , 100.6933125 ,   1.4165    , ...,  46.6170625 ,\n",
       "        158.86475   , 255.        ],\n",
       "       [255.        , 151.03996875,   2.12475   , ...,  69.92559375,\n",
       "        238.297125  , 255.        ],\n",
       "       [255.        , 161.1093    ,   2.2664    , ...,  74.5873    ,\n",
       "        254.1836    , 255.        ],\n",
       "       ...,\n",
       "       [184.71409375,  62.2345125 ,  18.05566875, ...,   4.30040625,\n",
       "        104.68008125, 255.        ],\n",
       "       [172.55040625,  64.31326875,  21.45874375, ...,   7.64319375,\n",
       "         92.1875375 , 255.        ],\n",
       "       [115.894175  ,  44.6617    ,  15.2407875 , ...,   6.74780625,\n",
       "         58.53736875, 255.        ]])"
      ]
     },
     "execution_count": 86,
     "metadata": {},
     "output_type": "execute_result"
    }
   ],
   "source": [
    "sobel2_lenn = image_with_sobel2(gaussian_lenn)\n",
    "print(sobel2_lenn.shape)\n",
    "print(sobel2_lenn.max())\n",
    "sobel2_lenn"
   ]
  },
  {
   "cell_type": "markdown",
   "metadata": {},
   "source": [
    "## 3"
   ]
  },
  {
   "cell_type": "code",
   "execution_count": 99,
   "metadata": {},
   "outputs": [
    {
     "data": {
      "text/plain": [
       "array([[ 0, 10, 15, 20],\n",
       "       [ 5,  0,  9, 10],\n",
       "       [ 6, 13,  0, 12],\n",
       "       [ 8,  8,  9,  0]])"
      ]
     },
     "execution_count": 99,
     "metadata": {},
     "output_type": "execute_result"
    }
   ],
   "source": [
    "weights = np.reshape(np.array([0,10,15,20,5,0,9,10,6,13,0,12,8,8,9,0]),(4,4))\n",
    "weights"
   ]
  },
  {
   "cell_type": "code",
   "execution_count": null,
   "metadata": {},
   "outputs": [],
   "source": []
  },
  {
   "cell_type": "code",
   "execution_count": null,
   "metadata": {},
   "outputs": [],
   "source": []
  },
  {
   "cell_type": "code",
   "execution_count": null,
   "metadata": {},
   "outputs": [],
   "source": []
  },
  {
   "cell_type": "markdown",
   "metadata": {},
   "source": [
    "## 4"
   ]
  },
  {
   "cell_type": "code",
   "execution_count": 4,
   "metadata": {},
   "outputs": [
    {
     "name": "stdout",
     "output_type": "stream",
     "text": [
      "(300, 200)\n"
     ]
    },
    {
     "data": {
      "text/plain": [
       "array([[0, 0, 0, ..., 0, 0, 0],\n",
       "       [0, 0, 0, ..., 0, 0, 0],\n",
       "       [0, 0, 0, ..., 0, 0, 0],\n",
       "       ...,\n",
       "       [0, 0, 0, ..., 0, 0, 0],\n",
       "       [0, 0, 0, ..., 0, 0, 0],\n",
       "       [0, 0, 0, ..., 0, 0, 0]], dtype=uint8)"
      ]
     },
     "execution_count": 4,
     "metadata": {},
     "output_type": "execute_result"
    }
   ],
   "source": [
    "import os\n",
    "import numpy as np\n",
    "from PIL import Image\n",
    "\n",
    "dat_path = os.path.join(os.getcwd(),'prob4.dat')\n",
    "dat_img = np.fromfile(dat_path, dtype=np.uint8) #Image.open(dat_path)\n",
    "dat_img = np.reshape(dat_img,(300,200))\n",
    "print(dat_img.shape)\n",
    "dat_img"
   ]
  },
  {
   "cell_type": "code",
   "execution_count": 5,
   "metadata": {},
   "outputs": [],
   "source": [
    "def get_group(img,s_coord):\n",
    "    group_members = [s_coord]\n",
    "    #t_coord = s_coord\n",
    "    \n",
    "    #while len(get_candidates(img,t_coord)) != 0:\n",
    "    c = get_candidates(img,s_coord)\n",
    "    if len(c) == 0:\n",
    "        return []\n",
    "\n",
    "    for _c in c:\n",
    "        group_members.extend(get_group(img,_c))\n",
    "    return group_members\n",
    "    #while len(group_members.extend(get_candidates(img,)))\n",
    "\n",
    "def is_white(img,coord):\n",
    "    if img[coord[0],coord[1]] == 255.0:\n",
    "        #print('is_white')\n",
    "        return True\n",
    "    return False\n",
    "\n",
    "\n",
    "def get_candidates(img,coord): # 하나의 흰점에서 뻗치기\n",
    "    candidates=[]\n",
    "    \n",
    "    x,y = coord\n",
    "    x_min = x-1\n",
    "    x_max = x+1\n",
    "    y_min = y-1\n",
    "    y_max = y+1\n",
    "    if x == 0:\n",
    "        x_min = x\n",
    "    if y == 0:\n",
    "        y_min = y\n",
    "    if x == 299:\n",
    "        x_max = 299\n",
    "    if y == 199:\n",
    "        y_max = 199\n",
    "    \n",
    "    for i in range(x+1,x_max+1):\n",
    "        for j in range(y+1,y_max+1):\n",
    "            if is_white(img,(i,j)):\n",
    "                candidates.append((i,j))\n",
    "    \"\"\"if is_white(img, (x+1,y)):\n",
    "        candidates.append((x+1,y))\n",
    "    if is_white(img, (x,y+1)):\n",
    "        candidates.append((x,y+1))\n",
    "    if is_white(img, (x+1,y+1)):\n",
    "        candidates.append((x+1,y+1))\n",
    "    if is_white(img,(x-1,y+1)):\n",
    "        candidates.append((x-1,y+1))\n",
    "    if is_white(img,(x-1,y)):\n",
    "        candidates.append((x-1,y))\"\"\"\n",
    "    \n",
    "    return candidates\n",
    "\n",
    "def groups(img):\n",
    "    groups = []\n",
    "    for i in range(300):\n",
    "        for j in range(200):\n",
    "            if is_white(img,(i,j)):\n",
    "                is_in = False\n",
    "                for g in groups:\n",
    "                    if (i,j) in g:\n",
    "                        is_in = True\n",
    "                        break\n",
    "                if not is_in:\n",
    "                    groups.append(get_group(img,(i,j)))\n",
    "    #print(len(groups))\n",
    "    return groups\n",
    "\n",
    "def color_img(img):\n",
    "    _img = img.copy()\n",
    "    _groups = groups(_img)\n",
    "    \n",
    "    for idx, g in enumerate(_groups):\n",
    "        color = float(idx+1)\n",
    "        for c in g:\n",
    "            _img[c[0],c[1]] = color\n",
    "    return _img\n"
   ]
  },
  {
   "cell_type": "code",
   "execution_count": 6,
   "metadata": {
    "scrolled": false
   },
   "outputs": [
    {
     "data": {
      "text/plain": [
       "array([[0, 0, 0, ..., 0, 0, 0],\n",
       "       [0, 0, 0, ..., 0, 0, 0],\n",
       "       [0, 0, 0, ..., 0, 0, 0],\n",
       "       ...,\n",
       "       [0, 0, 0, ..., 0, 0, 0],\n",
       "       [0, 0, 0, ..., 0, 0, 0],\n",
       "       [0, 0, 0, ..., 0, 0, 0]], dtype=uint8)"
      ]
     },
     "execution_count": 6,
     "metadata": {},
     "output_type": "execute_result"
    }
   ],
   "source": [
    "colored_dat_img = color_img(dat_img)\n",
    "colored_dat_img"
   ]
  },
  {
   "cell_type": "code",
   "execution_count": 7,
   "metadata": {},
   "outputs": [
    {
     "data": {
      "text/plain": [
       "False"
      ]
     },
     "execution_count": 7,
     "metadata": {},
     "output_type": "execute_result"
    }
   ],
   "source": [
    "np.mean(dat_img) == np.mean(colored_dat_img)"
   ]
  },
  {
   "cell_type": "code",
   "execution_count": 8,
   "metadata": {},
   "outputs": [
    {
     "data": {
      "text/plain": [
       "97.7925"
      ]
     },
     "execution_count": 8,
     "metadata": {},
     "output_type": "execute_result"
    }
   ],
   "source": [
    "np.mean(dat_img)"
   ]
  },
  {
   "cell_type": "code",
   "execution_count": 9,
   "metadata": {},
   "outputs": [
    {
     "data": {
      "text/plain": [
       "46.48113333333333"
      ]
     },
     "execution_count": 9,
     "metadata": {},
     "output_type": "execute_result"
    }
   ],
   "source": [
    "np.mean(colored_dat_img) # 46.48113333333333"
   ]
  },
  {
   "cell_type": "markdown",
   "metadata": {},
   "source": [
    "# 2"
   ]
  },
  {
   "cell_type": "code",
   "execution_count": 70,
   "metadata": {},
   "outputs": [
    {
     "data": {
      "text/plain": [
       "[]"
      ]
     },
     "execution_count": 70,
     "metadata": {},
     "output_type": "execute_result"
    }
   ],
   "source": [
    "n = 10\n",
    "import sys\n",
    "#rl = lambda sys.system...\n",
    "\n",
    "s = [1,5,2,1,4,3,4,5,2,1]\n",
    "size = len(s)\n",
    "\n",
    "d = [[0]*len(s) for _ in range(len(s))]\n",
    "d\n",
    "\n",
    "for i in range(size):\n",
    "    d[i][i] = 1\n",
    "    if i < size-1:\n",
    "        d[i][i+1] = 2\n",
    "    for j in range(size):\n",
    "        if i > j:\n",
    "            d[i][j] = -1\n",
    "\n",
    "d\n",
    "\n",
    "for i in range(2,size):\n",
    "    for j in range(i+1,size):\n",
    "        #pass\n",
    "        #print((i,j))\n",
    "        max_idx = s.index(max(s[i:j+1]))\n",
    "        min_idx = s.index(min(s[i:j+1]))\n",
    "        \n",
    "        \"\"\"if max(s[i:j+1]) == s[j] or s[j-1] > s[j]:\n",
    "            d[i][j] = d[i][j-1] + 1\n",
    "        else:\n",
    "            d[i][j] = d[i][j-1]\"\"\"\n",
    "d\n",
    "\n",
    "s[3:2+1]"
   ]
  },
  {
   "cell_type": "code",
   "execution_count": null,
   "metadata": {},
   "outputs": [],
   "source": []
  }
 ],
 "metadata": {
  "kernelspec": {
   "display_name": "Python 3",
   "language": "python",
   "name": "python3"
  },
  "language_info": {
   "codemirror_mode": {
    "name": "ipython",
    "version": 3
   },
   "file_extension": ".py",
   "mimetype": "text/x-python",
   "name": "python",
   "nbconvert_exporter": "python",
   "pygments_lexer": "ipython3",
   "version": "3.6.5"
  }
 },
 "nbformat": 4,
 "nbformat_minor": 2
}
